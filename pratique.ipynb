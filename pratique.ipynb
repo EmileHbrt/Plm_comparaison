{
 "cells": [
  {
   "cell_type": "markdown",
   "id": "c8e750ec",
   "metadata": {},
   "source": [
    "# Pipeline du projet\n",
    "\n",
    "**Bienvenue dans cet outil dédié à la comparaison de deux méthodes d'annotation protéique : PLMSearch et InterPro.**\n",
    "\n",
    "Ce notebook vous accompagnera étape par étape dans l'utilisation des différents codes afin d'obtenir une évaluation comparative de ces deux approches.\n",
    "Vous avez également la possibilité d’adapter ce cadre pour analyser d'autres méthodes d’annotation.\n",
    "\n",
    "N'oubliez pas de creer votre environnement de travail, vérifier vos chemin d'accés pour vos fichiers, dossiers, résultats et codes utilisés ! \n",
    "Pour toutes questions supplémentaires, contactez-nous !\n",
    "\n",
    "**Bonne exploration comparative !**\n"
   ]
  },
  {
   "cell_type": "markdown",
   "id": "706fb4de",
   "metadata": {},
   "source": [
    "### Diviser UniProt"
   ]
  },
  {
   "cell_type": "code",
   "execution_count": 3,
   "id": "59aed2e6",
   "metadata": {},
   "outputs": [],
   "source": [
    "!python ./code/dev/Uni_parse.py \\\n",
    "-i example\\Input\\example_uniprot.txt \\\n",
    "-o example\\Output\\File_Uniprot_example"
   ]
  },
  {
   "cell_type": "markdown",
   "id": "206b67fe",
   "metadata": {},
   "source": [
    "### Filtrer les résultats de PLMSearch"
   ]
  },
  {
   "cell_type": "code",
   "execution_count": 10,
   "id": "4e280ecb",
   "metadata": {},
   "outputs": [],
   "source": [
    "!python ./code/dev/PLM_best5Hits_filtered.py \\\n",
    "-i example\\Input\\PLMSearch_bestFirst5Hits_example.out \\\n",
    "-o example\\Output\\"
   ]
  },
  {
   "cell_type": "markdown",
   "id": "6c1994aa",
   "metadata": {},
   "source": [
    "### Lancer en parallèle l'analyse d'InterPro Scan \n",
    "Vous devez obtenir ce style de tableau :"
   ]
  },
  {
   "cell_type": "code",
   "execution_count": 14,
   "id": "bcddb9a9",
   "metadata": {},
   "outputs": [
    {
     "name": "stdout",
     "output_type": "stream",
     "text": [
      "    SeqCluster                                    Interpro_result\n",
      "0  CK_00000001  IPR000943|IPR007624|IPR007627|IPR007630|IPR009...\n",
      "1  CK_00000002                                IPR001789|IPR001867\n",
      "2  CK_00000003                      IPR003439|IPR005890|IPR017871\n",
      "3  CK_00000004                                          IPR012128\n",
      "4  CK_00000005                      IPR003439|IPR014324|IPR017871\n"
     ]
    }
   ],
   "source": [
    "import pandas as pd\n",
    "df_interpro = pd.read_csv(r\".\\data\\Interpros.filtered.csv\")\n",
    "print(df_interpro.head())"
   ]
  },
  {
   "cell_type": "markdown",
   "id": "3af321ec",
   "metadata": {},
   "source": [
    "### Creer le tableau informatif (Celui qui associe chaque CK à sa prédiction PLM et ses informations)\n",
    "nb: Il vous faut adapter les chemins d'accès car les exemples ne contienent pas toutes les informations !"
   ]
  },
  {
   "cell_type": "code",
   "execution_count": 22,
   "id": "06017b99",
   "metadata": {},
   "outputs": [
    {
     "name": "stderr",
     "output_type": "stream",
     "text": [
      "Traceback (most recent call last):\n",
      "  File \"c:\\Users\\dodol\\Documents\\GitHub\\Plm_comparaison\\code\\dev\\Comparaison_tab.py\", line 135, in <module>\n",
      "    main()\n",
      "  File \"c:\\Users\\dodol\\Documents\\GitHub\\Plm_comparaison\\code\\dev\\Comparaison_tab.py\", line 34, in main\n",
      "    open(os.path.join(output_dir, \"comparaison_tab.csv\"), \"w\", newline='', encoding=\"utf-8\") as fichier_w:\n",
      "         ^^^^^^^^^^^^^^^^^^^^^^^^^^^^^^^^^^^^^^^^^^^^^^^\n",
      "  File \"<frozen ntpath>\", line 108, in join\n",
      "TypeError: expected str, bytes or os.PathLike object, not NoneType\n"
     ]
    }
   ],
   "source": [
    "!python ./code/dev/Comparaison_tab.py \\\n",
    "-p example\\Output\\PLMSearch_bestHit.out \\\n",
    "-m data\\CK_clusters_mapSeqCluster_clean.csv \\\n",
    "#-u chemin du dossier contenant les fichiers AC_protein.dat résultant du splitage d'Uniprot \n",
    "#-o chemin où le comparaison_tab.csv va être enregistré "
   ]
  },
  {
   "cell_type": "markdown",
   "id": "4082b268",
   "metadata": {},
   "source": [
    "### Combiner les tableaux"
   ]
  },
  {
   "cell_type": "code",
   "execution_count": null,
   "id": "2f7a68ec",
   "metadata": {},
   "outputs": [],
   "source": [
    "!python .code/dev/Combine_tab.py \\\n",
    "-i <list_input_file> \\ \n",
    "-o <output_dir> \\ \n",
    "-c <combine_col>"
   ]
  }
 ],
 "metadata": {
  "kernelspec": {
   "display_name": "base",
   "language": "python",
   "name": "python3"
  },
  "language_info": {
   "codemirror_mode": {
    "name": "ipython",
    "version": 3
   },
   "file_extension": ".py",
   "mimetype": "text/x-python",
   "name": "python",
   "nbconvert_exporter": "python",
   "pygments_lexer": "ipython3",
   "version": "3.12.7"
  }
 },
 "nbformat": 4,
 "nbformat_minor": 5
}
